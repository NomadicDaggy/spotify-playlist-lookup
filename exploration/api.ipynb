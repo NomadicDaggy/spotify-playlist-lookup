{
 "cells": [
  {
   "cell_type": "code",
   "execution_count": 1,
   "metadata": {},
   "outputs": [],
   "source": [
    "import os\n",
    "\n",
    "import pandas as pd\n",
    "import tekore as tk\n",
    "\n",
    "from dotenv import load_dotenv"
   ]
  },
  {
   "cell_type": "code",
   "execution_count": 2,
   "metadata": {},
   "outputs": [],
   "source": [
    "load_dotenv(\".env.spotify\")\n",
    "\n",
    "client_id = os.getenv(\"SPOTIFY_CLIENT_ID\")\n",
    "client_secret = os.getenv(\"SPOTIFY_CLIENT_SECRET\")"
   ]
  },
  {
   "cell_type": "code",
   "execution_count": 5,
   "metadata": {},
   "outputs": [
    {
     "name": "stdout",
     "output_type": "stream",
     "text": [
      "Opening browser for Spotify login...\n",
      "Opening in existing browser session.\n"
     ]
    },
    {
     "name": "stderr",
     "output_type": "stream",
     "text": [
      "[129563:129563:0100/000000.012676:ERROR:vaapi_wrapper.cc(1145)] vaQuerySurfaceAttributes failed, VA error: invalid parameter\n",
      "[129563:129563:0100/000000.012701:ERROR:vaapi_wrapper.cc(1092)] FillProfileInfo_Locked failed for va_profile VAProfileH264Main and entrypoint VAEntrypointVLD\n",
      "[129563:129563:0100/000000.012713:ERROR:vaapi_wrapper.cc(1145)] vaQuerySurfaceAttributes failed, VA error: invalid parameter\n",
      "[129563:129563:0100/000000.012720:ERROR:vaapi_wrapper.cc(1092)] FillProfileInfo_Locked failed for va_profile VAProfileH264High and entrypoint VAEntrypointVLD\n"
     ]
    }
   ],
   "source": [
    "\n",
    "conf = (client_id, client_secret, \"https://example.com/callback\")\n",
    "token = tk.prompt_for_user_token(*conf, scope=tk.scope.every)\n",
    "\n",
    "spotify = tk.Spotify(token)\n",
    "tracks = spotify.current_user_top_tracks(limit=10)\n",
    "spotify.playback_start_tracks([t.id for t in tracks.items])"
   ]
  },
  {
   "cell_type": "code",
   "execution_count": 6,
   "metadata": {},
   "outputs": [
    {
     "data": {
      "text/plain": [
       "FullTrackPaging with fields:\n",
       "  href = 'https://api.spotify.com/v1/me/top/tracks?limit=10&offset=0'\n",
       "  items = [10 x FullTrack(album, artists, available_markets, ...)]\n",
       "  limit = 10\n",
       "  next = 'https://api.spotify.com/v1/me/top/tracks?limit=10&offset=10'\n",
       "  offset = 0\n",
       "  previous = None\n",
       "  total = 50"
      ]
     },
     "execution_count": 6,
     "metadata": {},
     "output_type": "execute_result"
    }
   ],
   "source": [
    "tracks"
   ]
  }
 ],
 "metadata": {
  "kernelspec": {
   "display_name": "Python 3.9.13 ('venv': venv)",
   "language": "python",
   "name": "python3"
  },
  "language_info": {
   "codemirror_mode": {
    "name": "ipython",
    "version": 3
   },
   "file_extension": ".py",
   "mimetype": "text/x-python",
   "name": "python",
   "nbconvert_exporter": "python",
   "pygments_lexer": "ipython3",
   "version": "3.9.13"
  },
  "orig_nbformat": 4,
  "vscode": {
   "interpreter": {
    "hash": "3371b6f812b2ef5fd8e22e9782e8dd25a18e83205560af1c3dbffd0283c163d2"
   }
  }
 },
 "nbformat": 4,
 "nbformat_minor": 2
}
